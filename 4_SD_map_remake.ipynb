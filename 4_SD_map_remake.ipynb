{
 "cells": [
  {
   "cell_type": "markdown",
   "id": "apparent-private",
   "metadata": {},
   "source": [
    "# S-D map remake"
   ]
  },
  {
   "cell_type": "code",
   "execution_count": 1,
   "id": "egyptian-kennedy",
   "metadata": {},
   "outputs": [],
   "source": [
    "using Plots\n",
    "using JLD2\n",
    "using LaTeXStrings"
   ]
  },
  {
   "cell_type": "code",
   "execution_count": 2,
   "id": "bored-madrid",
   "metadata": {},
   "outputs": [],
   "source": [
    "# define x, y range\n",
    "rK = exp.(range(-4., stop = 4., length = 100))\n",
    "KS = exp.(range(-4., stop = 4., length = 100));"
   ]
  },
  {
   "cell_type": "markdown",
   "id": "further-cyprus",
   "metadata": {},
   "source": [
    "## Load data"
   ]
  },
  {
   "cell_type": "code",
   "execution_count": 35,
   "id": "false-repository",
   "metadata": {},
   "outputs": [
    {
     "data": {
      "text/plain": [
       "5-element Vector{Symbol}:\n",
       " :stochastic_pulsing\n",
       " :stochastic_pulsing\n",
       " :stochastic_pulsing\n",
       " :stochastic_pulsing\n",
       " :stochastic_pulsing"
      ]
     },
     "execution_count": 35,
     "metadata": {},
     "output_type": "execute_result"
    }
   ],
   "source": [
    "df_name = \"SD_new_n4_100_edited.jld2\"\n",
    "behaviors = load(\"data/\" * df_name, \"behaviors\")\n",
    "first(behaviors, 5)"
   ]
  },
  {
   "cell_type": "code",
   "execution_count": 23,
   "id": "functional-hammer",
   "metadata": {},
   "outputs": [],
   "source": [
    "# # remove the irregular oscillation \"outliers\"\n",
    "# for i = 1:30\n",
    "#     for j = 1:100\n",
    "#         if behaviors[i, j] == :irregular_oscillation\n",
    "#             behaviors[i, j] = :stochastic_pulsing\n",
    "#         end\n",
    "#     end\n",
    "# end\n",
    "# save(\"data/SD_new_n4_100_edited.jld2\", Dict(\"behaviors\" => behaviors))"
   ]
  },
  {
   "cell_type": "code",
   "execution_count": 36,
   "id": "attempted-shopper",
   "metadata": {},
   "outputs": [
    {
     "data": {
      "image/png": "[encoded data removed]"
     },
     "execution_count": 36,
     "metadata": {},
     "output_type": "execute_result"
    }
   ],
   "source": [
    "pyplot()\n",
    "num_behaviors = zeros(Int64, size(behaviors)...)\n",
    "\n",
    "sym2num = Dict(:oscillation => 1, :stochastic_pulsing => 2, :no_expression => 3,\n",
    "    :stochastic_anti_pulsing => 4, :het_activation => 5, :stochastic_switching => 6,\n",
    "    :homo_activation => 7, :irregular_oscillation => 8, :undefined => 9)\n",
    "color_grad = cgrad([:red, :yellow, :white, :purple, \n",
    "        :turquoise, :green, :darkblue, :orange, :black], categorical = true)\n",
    "\n",
    "for i = 1:size(behaviors, 1)\n",
    "    for j = 1:size(behaviors, 2)\n",
    "        num_behaviors[i, j] = sym2num[behaviors[i, j]]\n",
    "    end\n",
    "end\n",
    "\n",
    "# switch to pyplot due to a bug in gr() color bar\n",
    "pyplot()\n",
    "# assign the min/max since undefined is hardly encountered\n",
    "# color bar is messed up. not shown\n",
    "heatmap(rK, KS, num_behaviors', c = color_grad, framestyle = :box,\n",
    "    xaxis = :log, yaxis = :log,\n",
    "    xticks = (5. .^(-2:2), 5. .^(-2:2)),\n",
    "    yticks = (5. .^(-2:2), 5. .^(-2:2)),\n",
    "    xlabel = L\"K_D/K_S\", ylabel = L\"K_S\", clim = (1, 9), legend = :none)\n",
    "plot!(size = (400, 300))"
   ]
  },
  {
   "cell_type": "code",
   "execution_count": 64,
   "id": "waiting-retention",
   "metadata": {},
   "outputs": [
    {
     "data": {
      "image/png": "[encoded data removed]"
     },
     "execution_count": 64,
     "metadata": {},
     "output_type": "execute_result"
    }
   ],
   "source": [
    "selected_coords = [\n",
    "    (15., 0.1),    # no expression\n",
    "    (1., 0.3),    # stochastic pulsing\n",
    "    (0.8, 1.2),    # oscillation\n",
    "    (0.8, 2.),    # stochastic anti-pulsing\n",
    "    (6., 2.4),    # stochastic switching\n",
    "    (10., 5.),    # het activation\n",
    "    (0.1, 5.)    # homo activation\n",
    "]\n",
    "colors = [:black, :black, :white, :white, :black, :black, :white]\n",
    "\n",
    "scatter!([ selected_coords[i][2] for i = 1:length(selected_coords) ],\n",
    "    [ selected_coords[i][1] for i = 1:length(selected_coords) ],\n",
    "    markersize = 6, color = colors, markerstrokewidth = 0)\n",
    "xlims!(exp(-4), exp(4))\n",
    "ylims!(exp(-4), exp(4))"
   ]
  },
  {
   "cell_type": "markdown",
   "id": "attractive-victim",
   "metadata": {},
   "source": [
    "## Save figure"
   ]
  },
  {
   "cell_type": "code",
   "execution_count": 37,
   "id": "funky-tract",
   "metadata": {},
   "outputs": [],
   "source": [
    "savefig(\"SD_new_n4_100.pdf\")"
   ]
  }
 ],
 "metadata": {
  "kernelspec": {
   "display_name": "Julia 1.6.1",
   "language": "julia",
   "name": "julia-1.6"
  },
  "language_info": {
   "file_extension": ".jl",
   "mimetype": "application/julia",
   "name": "julia",
   "version": "1.6.1"
  }
 },
 "nbformat": 4,
 "nbformat_minor": 5
}
